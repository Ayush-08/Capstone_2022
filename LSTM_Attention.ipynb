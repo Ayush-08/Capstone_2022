{
  "nbformat": 4,
  "nbformat_minor": 0,
  "metadata": {
    "colab": {
      "provenance": []
    },
    "kernelspec": {
      "name": "python3",
      "display_name": "Python 3"
    },
    "language_info": {
      "name": "python"
    }
  },
  "cells": [
    {
      "cell_type": "code",
      "execution_count": 1,
      "metadata": {
        "colab": {
          "base_uri": "https://localhost:8080/"
        },
        "id": "BhRpt3qfnOgZ",
        "outputId": "38fe469f-39b0-45ab-baa5-5f476a826e9d"
      },
      "outputs": [
        {
          "output_type": "stream",
          "name": "stdout",
          "text": [
            "Mounted at /content/drive\n"
          ]
        }
      ],
      "source": [
        "from google.colab import drive\n",
        "drive.mount('/content/drive')"
      ]
    },
    {
      "cell_type": "code",
      "source": [
        "import zipfile\n",
        "with zipfile.ZipFile(\"../content/drive/MyDrive/test.zip\",\"r\") as z:\n",
        "    z.extractall(\".\")\n",
        "with zipfile.ZipFile(\"../content/drive/MyDrive/train.zip\",\"r\") as z:\n",
        "    z.extractall(\".\")"
      ],
      "metadata": {
        "id": "YJuCMQgtnPIm"
      },
      "execution_count": 2,
      "outputs": []
    },
    {
      "cell_type": "code",
      "source": [
        "from sklearn.model_selection import train_test_split\n",
        "import numpy as np\n",
        "import pywt\n",
        "import matplotlib.pyplot as plt\n",
        "import pandas as pd\n",
        "from sklearn.linear_model import LogisticRegression\n",
        "\n",
        "from glob import glob\n",
        "import scipy\n",
        "from scipy.signal import butter, lfilter, convolve, boxcar\n",
        "from scipy.signal import freqz\n",
        "from scipy.fftpack import fft, ifft\n",
        "import os\n",
        "\n",
        "from sklearn.preprocessing import StandardScaler\n",
        "\n",
        "def wavelet_denoising(x, wavelet='db2', level=3):\n",
        "    coeff = pywt.wavedec(x, wavelet, mode=\"per\")\n",
        "    sigma = (1/0.6745) * madev(coeff[-level])\n",
        "    uthresh = sigma * np.sqrt(2 * np.log(len(x)))\n",
        "    coeff[1:] = (pywt.threshold(i, value=uthresh, mode='hard') for i in coeff[1:])\n",
        "    return pywt.waverec(coeff, wavelet, mode='per')\n",
        "def madev(d, axis=None):\n",
        "    \"\"\" Mean absolute deviation of a signal \"\"\"\n",
        "    return np.mean(np.absolute(d - np.mean(d, axis)), axis)\n",
        "#############function to read data###########\n",
        "\n",
        "def prepare_data_train(fname):\n",
        "    \"\"\" read and prepare training data \"\"\"\n",
        "    # Read data\n",
        "    data = pd.read_csv(fname)\n",
        "    # events file\n",
        "    events_fname = fname.replace('_data','_events')\n",
        "    # read event file\n",
        "    labels= pd.read_csv(events_fname)\n",
        "    clean=data.drop(['id' ], axis=1)#remove id\n",
        "    labels=labels.drop(['id' ], axis=1)#remove id\n",
        "    return  clean,labels\n",
        "def prepare_data_test(fname):\n",
        "    \"\"\" read and prepare test data \"\"\"\n",
        "    # Read data\n",
        "    data = pd.read_csv(fname)\n",
        "    return data\n",
        "from sklearn.preprocessing import StandardScaler,MinMaxScaler\n",
        "scaler= StandardScaler()\n",
        "def data_preprocess_train(X):\n",
        "    X_prep=scaler.fit_transform(X)\n",
        "    #do here your preprocessing\n",
        "    return X_prep\n",
        "def data_preprocess_test(X):\n",
        "    X_prep=scaler.transform(X)\n",
        "    #do here your preprocessing\n",
        "    return X_prep\n",
        "subjects = range(1,6)"
      ],
      "metadata": {
        "id": "36iurNdCnXzp"
      },
      "execution_count": 3,
      "outputs": []
    },
    {
      "cell_type": "code",
      "source": [
        "from glob import glob\n",
        "import pandas as pd\n",
        "ids_tot = []\n",
        "pred_tot = []\n",
        "X_train_butter = []\n",
        "from sklearn.model_selection import train_test_split\n",
        "import numpy as  np\n",
        "\n",
        "###loop on subjects and 8 series for train data + 2 series for test data\n",
        "y_raw= []\n",
        "raw = []\n",
        "y_rawt= []\n",
        "rawt = []\n",
        "for subject in subjects:\n",
        "    \n",
        "    ################ READ DATA ################################################\n",
        "    fnames =  sorted(glob('train/subj%d_series*_data.csv' % (subject)))\n",
        "\n",
        "\n",
        "#    fnames =  glob('../input/train/subj1_series1_events.csv')\n",
        "#    fnames =  glob('../input/train/subj1_series1_data.csv')\n",
        "    for fname in fnames:\n",
        "      data,labels=prepare_data_train(fname)\n",
        "      raw.append(data)\n",
        "      y_raw.append(labels)\n",
        "\n",
        "    for fname in fnames:\n",
        "      with open(fname) as myfile:\n",
        "        head = [next(myfile) for x in range(10)]\n",
        "        \n",
        "\n",
        "      \n",
        "        \n",
        "X = pd.concat(raw)\n",
        "y = pd.concat(y_raw)\n",
        "    #transform in numpy array\n",
        "    #transform train data in numpy array\n",
        "X_train =np.asarray(X.astype(float))\n",
        "y_train = np.asarray(y.astype(float))\n",
        "from sklearn.preprocessing import StandardScaler,Normalizer,MinMaxScaler\n",
        "scaler= StandardScaler()\n",
        "def data_preprocess_train(X):\n",
        "    X_prep=scaler.fit_transform(X)\n",
        "    #do here your preprocessing\n",
        "    return X_prep\n",
        "fs = 500.0\n",
        "lowcut = 7.0\n",
        "highcut = 30.0\n",
        "\n",
        "\n",
        "x_train_butter=wavelet_denoising(X_train)\n",
        "x_train=data_preprocess_train(x_train_butter)\n",
        "splitrate=-x_train.shape[0]//5*2\n",
        "xval=x_train[splitrate:splitrate//2]\n",
        "yval=y_train[splitrate:splitrate//2]\n",
        "xtest=x_train[splitrate//2:]\n",
        "ytest=y_train[splitrate//2:]\n",
        "xtrain=x_train[:splitrate]\n",
        "ytrain=y_train[:splitrate]"
      ],
      "metadata": {
        "id": "af8KGO-rnYiq"
      },
      "execution_count": 4,
      "outputs": []
    },
    {
      "cell_type": "code",
      "source": [
        "import pywt\n",
        "import pandas as pd\n",
        "import numpy as np\n",
        "def wavelet_denoising(x, wavelet='db2', level=3):\n",
        "    coeff = pywt.wavedec(x, wavelet, mode=\"per\")\n",
        "    sigma = (1/0.6745) * madev(coeff[-level])\n",
        "    uthresh = sigma * np.sqrt(2 * np.log(len(x)))\n",
        "    coeff[1:] = (pywt.threshold(i, value=uthresh, mode='hard') for i in coeff[1:])\n",
        "    return pywt.waverec(coeff, wavelet, mode='per')\n",
        "def madev(d, axis=None):\n",
        "    \"\"\" Mean absolute deviation of a signal \"\"\"\n",
        "    return np.mean(np.absolute(d - np.mean(d, axis)), axis)\n",
        "\n",
        "signal=pd.read_csv('train/subj1_series1_data.csv')\n",
        "signal = signal.drop(\"id\", axis=1)\n",
        "filtered = wavelet_denoising(signal, wavelet='db2', level=3)\n",
        "import matplotlib.pyplot as plt\n",
        "fig, ax = plt.subplots(figsize=(8,5))\n",
        "ax.plot(signal.iloc[:10000,1], label='signal', color=\"b\", alpha=0.5,)\n",
        "ax.plot(filtered[:10000,1], label='reconstructed signal',color=\"k\")\n",
        "ax.legend(loc='upper left')\n",
        "ax.set_title('Denoising with DWT')\n",
        "plt.show()"
      ],
      "metadata": {
        "colab": {
          "base_uri": "https://localhost:8080/",
          "height": 336
        },
        "id": "VzEPKpqpnaHX",
        "outputId": "468d49a1-7d56-412b-f269-596a240e0869"
      },
      "execution_count": 5,
      "outputs": [
        {
          "output_type": "display_data",
          "data": {
            "text/plain": [
              "<Figure size 576x360 with 1 Axes>"
            ],
            "image/png": "[encoded data removed]"
          },
          "metadata": {
            "needs_background": "light"
          }
        }
      ]
    },
    {
      "cell_type": "code",
      "source": [
        "import seaborn as sns\n",
        "ye=pd.DataFrame(y_train)\n",
        "\n",
        "ye.columns=[\"Handstart \",\"Grasping \",\"Lift \",\"Hold \",\"Replace \",\"Release\"]\n",
        "categories = list(ye.columns.values)\n",
        "sns.set(font_scale = 1)\n",
        "plt.figure(figsize=(15,8))\n",
        "ax= sns.barplot(categories, ye.iloc[:,0:].sum().values)\n",
        "plt.title(\"Number of samples labeled as active (1) out of {0} length data\".format((ye.shape[0])),fontsize=20)\n",
        "\n",
        "plt.ylabel('Number of events', fontsize=18)\n",
        "plt.xlabel('Event Type ', fontsize=12)\n",
        "#adding the text labels\n",
        "rects = ax.patches\n",
        "labels = ye.iloc[:,0:].sum().values\n",
        "\n",
        "for rect, label in zip(rects, labels):\n",
        "    height = rect.get_height()\n",
        "    ax.text(rect.get_x() + rect.get_width()/2, height + 5, label, ha='center', va='bottom', fontsize=10)\n",
        "plt.show()"
      ],
      "metadata": {
        "id": "ErbT__ODnc2s"
      },
      "execution_count": null,
      "outputs": []
    },
    {
      "cell_type": "code",
      "source": [
        "import numpy as np # linear algebra\n",
        "import pandas as pd # data processing, CSV file I/O (e.g. pd.read_csv)\n",
        "import keras\n",
        "from keras import regularizers\n",
        "from keras.models import Sequential\n",
        "from keras.layers import Dense, Dropout\n",
        "from keras.layers import Embedding\n",
        "from keras.layers import LSTM, BatchNormalization, Conv2D, Flatten, MaxPooling2D, Dropout, Activation\n",
        "from tensorflow.keras.optimizers import Adam\n",
        "#from keras.optimizers import Adam\n",
        "from sklearn.metrics import roc_curve, auc, roc_auc_score\n",
        "from sklearn.metrics import classification_report,confusion_matrix,accuracy_score,roc_curve,auc\n",
        "import tensorflow as tf\n",
        "\n",
        "#from keras.models import Sequential\n",
        "# from keras.layers import LSTM, Dense, Dropout, Activation, Flatten\n",
        "# from keras import optimizers\n",
        "# from keras import regularizers\n",
        "# from tensorflow.keras.layers import BatchNormalization\n",
        "# from tensorflow.keras.utils import plot_model"
      ],
      "metadata": {
        "id": "9Dk4yhBqneuk"
      },
      "execution_count": null,
      "outputs": []
    },
    {
      "cell_type": "code",
      "source": [
        "time_steps = 1000\n",
        "subsample = 10\n",
        "model3 = Sequential()\n",
        "model3.add(LSTM(64,input_shape = (time_steps//subsample, 32), return_sequences=True))\n",
        "model3.add(Dropout(0.5))\n",
        "model3.add(LSTM(64,input_shape = (time_steps//subsample, 32), return_sequences=True))\n",
        "model3.add(Dropout(0.5))\n",
        "model3.add(LSTM(64,input_shape = (time_steps//subsample, 32), return_sequences=True))\n",
        "model3.add(Dropout(0.5))\n",
        "model3.add(LSTM(64))\n",
        "model3.add(Dense(6, activation='sigmoid'))\n",
        "model3.compile(loss='binary_crossentropy', optimizer= Adam(lr = 0.0001), metrics=['accuracy'])\n",
        "model3.summary()"
      ],
      "metadata": {
        "id": "QyACXNICnsbr"
      },
      "execution_count": null,
      "outputs": []
    },
    {
      "cell_type": "code",
      "source": [
        "class Attention(Layer):\n",
        "\n",
        "    \n",
        "    def __init__(self, step_dim,\n",
        "                 W_regularizer=None, b_regularizer=None,\n",
        "                 W_constraint=None, b_constraint=None,\n",
        "                 bias=True, **kwargs):\n",
        "        self.supports_masking = True\n",
        "        self.init = initializers.get('glorot_uniform')\n",
        "\n",
        "        self.W_regularizer = regularizers.get(W_regularizer)\n",
        "        self.b_regularizer = regularizers.get(b_regularizer)\n",
        "\n",
        "        self.W_constraint = constraints.get(W_constraint)\n",
        "        self.b_constraint = constraints.get(b_constraint)\n",
        "\n",
        "        self.bias = bias\n",
        "        self.step_dim = step_dim\n",
        "        self.features_dim = 0\n",
        "        super(Attention, self).__init__(**kwargs)\n",
        "\n",
        "    def build(self, input_shape):\n",
        "        assert len(input_shape) == 3\n",
        "\n",
        "        self.W = self.add_weight((input_shape[-1],),\n",
        "                                 initializer=self.init,\n",
        "                                 name='{}_W'.format(self.name),\n",
        "                                 regularizer=self.W_regularizer,\n",
        "                                 constraint=self.W_constraint)\n",
        "        self.features_dim = input_shape[-1]\n",
        "\n",
        "        if self.bias:\n",
        "            self.b = self.add_weight((input_shape[1],),\n",
        "                                     initializer='zero',\n",
        "                                     name='{}_b'.format(self.name),\n",
        "                                     regularizer=self.b_regularizer,\n",
        "                                     constraint=self.b_constraint)\n",
        "        else:\n",
        "            self.b = None\n",
        "        self.built = True\n",
        "\n",
        "    def compute_mask(self, input, input_mask=None):\n",
        "        return None\n",
        "\n",
        "    def call(self, x, mask=None):\n",
        "        features_dim = self.features_dim\n",
        "        step_dim = self.step_dim\n",
        "        eij = K.reshape(K.dot(K.reshape(x, (-1, features_dim)),\n",
        "                        K.reshape(self.W, (features_dim, 1))), (-1, step_dim))\n",
        "        if self.bias:\n",
        "            eij += self.b\n",
        "        eij = K.tanh(eij)\n",
        "        a = K.exp(eij)\n",
        "        if mask is not None:\n",
        "            a *= K.cast(mask, K.floatx())\n",
        "        a /= K.cast(K.sum(a, axis=1, keepdims=True) + K.epsilon(), K.floatx())\n",
        "        a = K.expand_dims(a)\n",
        "        weighted_input = x * a\n",
        "        return K.sum(weighted_input, axis=1)\n",
        "\n",
        "    def compute_output_shape(self, input_shape):\n",
        "        return input_shape[0],  self.features_dim"
      ],
      "metadata": {
        "id": "EC9gg81Inta-"
      },
      "execution_count": null,
      "outputs": []
    },
    {
      "cell_type": "code",
      "source": [
        "\n",
        "    input_words = Input((maxlen, ))\n",
        "    x_words = Embedding(vocab_size,\n",
        "                        embedding_size,\n",
        "                        weights=[embedding_matrix],\n",
        "                        mask_zero=True,\n",
        "                        trainable=False)(input_words)\n",
        "    x_words = SpatialDropout1D(0.3)(x_words)\n",
        "    x_words = Bidirectional(LSTM(50, return_sequences=True))(x_words)\n",
        "    x = Attention(maxlen)(x_words)\n",
        "    x = Dropout(0.2)(x)\n",
        "    x = Dense(50, activation='relu')(x)\n",
        "    x = Dropout(0.2)(x)\n",
        "    pred = Dense(target_count, activation='softmax')(x)\n",
        "\n",
        "    model = Model(inputs=input_words, outputs=pred)\n",
        "    return model\n",
        "\n",
        "model = build_model(maxlen, vocab_size, embedding_size, embedding_matrix)\n",
        "model.compile(optimizer='nadam', loss='sparse_categorical_crossentropy', metrics=['accuracy'])\n",
        "model.summary()"
      ],
      "metadata": {
        "id": "iIK1n2Q3n8x2"
      },
      "execution_count": null,
      "outputs": []
    },
    {
      "cell_type": "code",
      "source": [
        "def valgenerator():\n",
        "    while 1:\n",
        "        batch_size=32\n",
        "        x_time_data = np.zeros((batch_size, time_steps//subsample, 32))\n",
        "        yy = []\n",
        "        for i in range(batch_size):\n",
        "            random_index = np.random.randint(0, len(xval)-time_steps)\n",
        "            x_time_data[i] = xval[random_index:random_index+time_steps:subsample]\n",
        "            yy.append(yval[random_index + time_steps])\n",
        "        yy = np.asarray(yy)\n",
        "        yield x_time_data, yy"
      ],
      "metadata": {
        "id": "eKC-zZbSoH6_"
      },
      "execution_count": null,
      "outputs": []
    },
    {
      "cell_type": "code",
      "source": [
        "import time\n",
        "start=time.time()\n",
        "def generator(batch_size):\n",
        "    while 1:\n",
        "        \n",
        "        x_time_data = np.zeros((batch_size, time_steps//subsample, 32))\n",
        "        yy = []\n",
        "        for i in range(batch_size):\n",
        "            random_index = np.random.randint(0, len(xtrain)-time_steps)\n",
        "            x_time_data[i] = xtrain[random_index:random_index+time_steps:subsample]\n",
        "            yy.append(ytrain[random_index + time_steps])\n",
        "        yy = np.asarray(yy)\n",
        "        yield x_time_data, yy\n",
        "\n",
        "history =model.fit_generator(generator(32), steps_per_epoch = 200, epochs = 50,validation_data=valgenerator(), validation_steps=100)\n",
        "print('training time taken: ',round(time.time()-start,0),'seconds')"
      ],
      "metadata": {
        "id": "ZHBCXZseoKuU"
      },
      "execution_count": null,
      "outputs": []
    }
  ]
}